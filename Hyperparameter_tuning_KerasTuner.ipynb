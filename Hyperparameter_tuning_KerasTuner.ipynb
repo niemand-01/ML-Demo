{
  "nbformat": 4,
  "nbformat_minor": 0,
  "metadata": {
    "colab": {
      "name": "Hyperparameter-tuning-KerasTuner.ipynb",
      "provenance": [],
      "collapsed_sections": [],
      "authorship_tag": "ABX9TyPMKlT/23Gwenq2ni7v23GP",
      "include_colab_link": true
    },
    "kernelspec": {
      "name": "python3",
      "display_name": "Python 3"
    }
  },
  "cells": [
    {
      "cell_type": "markdown",
      "metadata": {
        "id": "view-in-github",
        "colab_type": "text"
      },
      "source": [
        "<a href=\"https://colab.research.google.com/github/niemand-01/ML-Demo/blob/master/Hyperparameter_tuning_KerasTuner.ipynb\" target=\"_parent\"><img src=\"https://colab.research.google.com/assets/colab-badge.svg\" alt=\"Open In Colab\"/></a>"
      ]
    },
    {
      "cell_type": "code",
      "metadata": {
        "id": "USRSL0rTYPA6"
      },
      "source": [
        "import tensorflow as tf\n",
        "from tensorflow import keras\n",
        "import IPython\n",
        "from google.colab.patches import cv2_imshow"
      ],
      "execution_count": 7,
      "outputs": []
    },
    {
      "cell_type": "code",
      "metadata": {
        "id": "Pkf3WAHHYlRv",
        "outputId": "407563d5-a757-4a28-adda-3e97c96a49c6",
        "colab": {
          "base_uri": "https://localhost:8080/"
        }
      },
      "source": [
        "!pip install -q -U keras-tuner\n",
        "import kerastuner as kt"
      ],
      "execution_count": 2,
      "outputs": [
        {
          "output_type": "stream",
          "text": [
            "\u001b[?25l\r\u001b[K     |██████                          | 10kB 22.0MB/s eta 0:00:01\r\u001b[K     |████████████                    | 20kB 1.7MB/s eta 0:00:01\r\u001b[K     |██████████████████              | 30kB 2.2MB/s eta 0:00:01\r\u001b[K     |████████████████████████        | 40kB 2.6MB/s eta 0:00:01\r\u001b[K     |██████████████████████████████  | 51kB 2.0MB/s eta 0:00:01\r\u001b[K     |████████████████████████████████| 61kB 1.8MB/s \n",
            "\u001b[?25h  Building wheel for keras-tuner (setup.py) ... \u001b[?25l\u001b[?25hdone\n",
            "  Building wheel for terminaltables (setup.py) ... \u001b[?25l\u001b[?25hdone\n"
          ],
          "name": "stdout"
        }
      ]
    },
    {
      "cell_type": "code",
      "metadata": {
        "id": "Q1p7kaXSYqjX",
        "outputId": "6ec52e90-5301-4419-be0c-abe6ccae15ff",
        "colab": {
          "base_uri": "https://localhost:8080/",
          "height": 45
        }
      },
      "source": [
        "(x_train,y_train),(x_test,y_test) = keras.datasets.fashion_mnist.load_data()\n",
        "\n",
        "img_train = x_train.astype('float32')/255.0\n",
        "img_test = x_test.astype('float32')/255.0\n",
        "\n",
        "cv2_imshow(img_train[0])"
      ],
      "execution_count": 8,
      "outputs": [
        {
          "output_type": "display_data",
          "data": {
            "image/png": "[encoded data removed]",
            "text/plain": [
              "<PIL.Image.Image image mode=L size=28x28 at 0x7F8197E130F0>"
            ]
          },
          "metadata": {
            "tags": []
          }
        }
      ]
    },
    {
      "cell_type": "code",
      "metadata": {
        "id": "rpBu4q3eZKNg"
      },
      "source": [
        "# model\n",
        "def model(hp):\n",
        "  hp_units = hp.Int('units',min_value=32,max_value=512,step = 32)\n",
        "  model = keras.Sequential([\n",
        "          keras.layers.Flatten(input_shape=(28,28)),\n",
        "          keras.layers.Dense(units=hp_units,activation='relu'),\n",
        "          keras.layers.Dense(10)\n",
        "  ])\n",
        "\n",
        "  hp_learning_rate = hp.Choice('learning_rate',values = [1e-2,1e-3,1e-4])\n",
        "\n",
        "  model.compile(\n",
        "      optimizer = keras.optimizers.Adam(learning_rate=hp_learning_rate),\n",
        "      loss = keras.losses.SparseCategoricalCrossentropy(from_logits=True),\n",
        "      metrics = ['accuracy']\n",
        "  )\n",
        "\n",
        "  return model"
      ],
      "execution_count": 10,
      "outputs": []
    },
    {
      "cell_type": "code",
      "metadata": {
        "id": "ha_l6Itcabp7",
        "outputId": "29a57fae-5043-425e-9770-71a5f8b96a5c",
        "colab": {
          "base_uri": "https://localhost:8080/"
        }
      },
      "source": [
        "# hyperband instantiate\n",
        "tuner = kt.Hyperband(model,\n",
        "            objective = 'val_accuracy',\n",
        "            max_epochs =10,\n",
        "            factor =3,\n",
        "            directory = 'logs/hptuning',\n",
        "            project_name='intro_to_kt')\n",
        "\n",
        "# extend Callback class\n",
        "# clear log\n",
        "class ClearTrainingOutput(tf.keras.callbacks.Callback):\n",
        "  def on_train_end(*args,**kwargs):\n",
        "    IPython.display.clear_output(wait = True)\n",
        "\n",
        "tuner.search(img_train,y_train,epochs = 10,validation_data = (img_test,y_test), callbacks = [ClearTrainingOutput()])\n",
        "\n",
        "# print best hp\n",
        "best_hps = tuner.get_best_hyperparameters(num_trials = 1)[0]"
      ],
      "execution_count": 13,
      "outputs": [
        {
          "output_type": "stream",
          "text": [
            "INFO:tensorflow:Reloading Oracle from existing project logs/hptuning/intro_to_kt/oracle.json\n",
            "INFO:tensorflow:Reloading Tuner from logs/hptuning/intro_to_kt/tuner0.json\n",
            "INFO:tensorflow:Oracle triggered exit\n"
          ],
          "name": "stdout"
        }
      ]
    },
    {
      "cell_type": "code",
      "metadata": {
        "id": "UYgLKZOXj83_",
        "outputId": "93a113c8-6a2e-4010-9321-09929ef2d8a0",
        "colab": {
          "base_uri": "https://localhost:8080/"
        }
      },
      "source": [
        "# Build the model with the optimal hyperparameters and train it on the data\n",
        "model = tuner.hypermodel.build(best_hps)\n",
        "model.fit(img_train, y_train, epochs = 10, validation_data = (img_test, y_test))"
      ],
      "execution_count": 15,
      "outputs": [
        {
          "output_type": "stream",
          "text": [
            "Epoch 1/10\n",
            "1875/1875 [==============================] - 8s 4ms/step - loss: 0.4728 - accuracy: 0.8337 - val_loss: 0.4073 - val_accuracy: 0.8541\n",
            "Epoch 2/10\n",
            "1875/1875 [==============================] - 7s 4ms/step - loss: 0.3621 - accuracy: 0.8681 - val_loss: 0.4059 - val_accuracy: 0.8517\n",
            "Epoch 3/10\n",
            "1875/1875 [==============================] - 7s 4ms/step - loss: 0.3244 - accuracy: 0.8804 - val_loss: 0.3637 - val_accuracy: 0.8724\n",
            "Epoch 4/10\n",
            "1875/1875 [==============================] - 7s 4ms/step - loss: 0.3013 - accuracy: 0.8891 - val_loss: 0.3546 - val_accuracy: 0.8719\n",
            "Epoch 5/10\n",
            "1875/1875 [==============================] - 7s 4ms/step - loss: 0.2824 - accuracy: 0.8960 - val_loss: 0.3693 - val_accuracy: 0.8626\n",
            "Epoch 6/10\n",
            "1875/1875 [==============================] - 7s 4ms/step - loss: 0.2669 - accuracy: 0.8985 - val_loss: 0.3336 - val_accuracy: 0.8823\n",
            "Epoch 7/10\n",
            "1875/1875 [==============================] - 7s 4ms/step - loss: 0.2547 - accuracy: 0.9042 - val_loss: 0.3297 - val_accuracy: 0.8849\n",
            "Epoch 8/10\n",
            "1875/1875 [==============================] - 7s 4ms/step - loss: 0.2436 - accuracy: 0.9083 - val_loss: 0.3264 - val_accuracy: 0.8826\n",
            "Epoch 9/10\n",
            "1875/1875 [==============================] - 9s 5ms/step - loss: 0.2336 - accuracy: 0.9129 - val_loss: 0.3360 - val_accuracy: 0.8796\n",
            "Epoch 10/10\n",
            "1875/1875 [==============================] - 7s 4ms/step - loss: 0.2262 - accuracy: 0.9160 - val_loss: 0.3199 - val_accuracy: 0.8901\n"
          ],
          "name": "stdout"
        },
        {
          "output_type": "execute_result",
          "data": {
            "text/plain": [
              "<tensorflow.python.keras.callbacks.History at 0x7f819e608ba8>"
            ]
          },
          "metadata": {
            "tags": []
          },
          "execution_count": 15
        }
      ]
    }
  ]
}