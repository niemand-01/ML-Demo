{
  "nbformat": 4,
  "nbformat_minor": 0,
  "metadata": {
    "colab": {
      "name": "Kmeans-pytorch.ipynb",
      "provenance": [],
      "authorship_tag": "ABX9TyPV5MHv9qAAJn98TtOypaS+",
      "include_colab_link": true
    },
    "kernelspec": {
      "name": "python3",
      "display_name": "Python 3"
    }
  },
  "cells": [
    {
      "cell_type": "markdown",
      "metadata": {
        "id": "view-in-github",
        "colab_type": "text"
      },
      "source": [
        "<a href=\"https://colab.research.google.com/github/niemand-01/ML-Demo/blob/master/Kmeans_pytorch.ipynb\" target=\"_parent\"><img src=\"https://colab.research.google.com/assets/colab-badge.svg\" alt=\"Open In Colab\"/></a>"
      ]
    },
    {
      "cell_type": "code",
      "metadata": {
        "id": "O8f7bmfNv5wU"
      },
      "source": [
        "import torch\n",
        "import numpy as np\n",
        "from sklearn.datasets import make_blobs\n",
        "import matplotlib.pyplot as plt\n",
        "import logging\n"
      ],
      "execution_count": 1,
      "outputs": []
    },
    {
      "cell_type": "code",
      "metadata": {
        "id": "3Q2W00aowo9N"
      },
      "source": [
        "Data,label = make_blobs(n_samples=100,n_features=2,centers=4)\n",
        "\n",
        "# print(X)"
      ],
      "execution_count": 5,
      "outputs": []
    },
    {
      "cell_type": "code",
      "metadata": {
        "id": "alfRdcyDwxMd",
        "outputId": "baa8e8b3-f007-4d91-eea1-63690b489acd",
        "colab": {
          "base_uri": "https://localhost:8080/",
          "height": 283
        }
      },
      "source": [
        "# X[y==0,0] means the corresponding X[i][0] when y[i]==0\n",
        "plt.scatter(Data[label==0,0], Data[label==0,1])\n",
        "plt.scatter(Data[label==1,0], Data[label==1,1], c='r')\n",
        "plt.scatter(Data[label==2,0], Data[label==2,1], c='b')\n",
        "plt.scatter(Data[label==3,0], Data[label==3,1], c='g')"
      ],
      "execution_count": 6,
      "outputs": [
        {
          "output_type": "execute_result",
          "data": {
            "text/plain": [
              "<matplotlib.collections.PathCollection at 0x7f918e5888d0>"
            ]
          },
          "metadata": {
            "tags": []
          },
          "execution_count": 6
        },
        {
          "output_type": "display_data",
          "data": {
            "image/png": "[encoded data removed]",
            "text/plain": [
              "<Figure size 432x288 with 1 Axes>"
            ]
          },
          "metadata": {
            "tags": [],
            "needs_background": "light"
          }
        }
      ]
    },
    {
      "cell_type": "markdown",
      "metadata": {
        "id": "WbStg71LZP4C"
      },
      "source": [
        "# pytorch 简单总结\n",
        "\n",
        "1. to(torch.device(\"cpu\")) 分配tensor 给cpu/cuba\n",
        "2. dim=1(row), 0(coloumn)\n",
        "3. torch.empty() 内部为Null\n",
        "4. torch.squeeze(a) 删除a所有dim里面的1\n",
        "5. torch.unsqueeze(a,1) 添加1在a的dim里面index=1的地方，比如本来是(2,)==》(2,1)\n",
        "6. torch.sum, torch.mul都支持broadcast\n",
        "7. torch.cat([tensor1,tensor2,...],dim=1) 将tensor1,2...以dim=1(row)的形式连接起来"
      ]
    },
    {
      "cell_type": "code",
      "metadata": {
        "id": "6DAkOL7axl3-",
        "outputId": "91ec0f9e-df71-4f22-a6c2-cc5431c89e15",
        "colab": {
          "base_uri": "https://localhost:8080/",
          "height": 55
        }
      },
      "source": [
        "class Kmeans:\n",
        "  def __init__(self,n_clusters=20,max_iter=None,verbose=True,device=torch.device(\"cpu\")):\n",
        "    self.n_cluster = n_clusters\n",
        "    # number of clusters\n",
        "    self.n_clusters = n_clusters\n",
        "    self.labels = None\n",
        "    # distance to center\n",
        "    self.dists = None\n",
        "    # center xy\n",
        "    self.centers = None\n",
        "\n",
        "    # assign this tensor to this device\n",
        "    self.variation = torch.Tensor([float(\"Inf\")]).to(device)\n",
        "    self.verbose = verbose\n",
        "    # start flag\n",
        "    self.started = False\n",
        "    self.representive_samples = None\n",
        "    # max iteration \n",
        "    self.max_iter = max_iter\n",
        "    self.count = 0\n",
        "    # the device on which tensor will be allocated\n",
        "    # options: cpu/cuda\n",
        "    self.device = device\n",
        "\n",
        "  def fit(self,x):\n",
        "\n",
        "    x = torch.tensor(x)\n",
        "    # randint(lowest integer to be drawn ,highest integer, size,)\n",
        "\n",
        "    # randomly choose centers number of n_clusters\n",
        "    init_row = torch.randint(0,x.shape[0],(self.n_clusters,)).to(self.device)\n",
        "    init_points = x[init_row]\n",
        "    self.centers = init_points\n",
        "\n",
        "    while True:\n",
        "      self.assign_to_center(x)\n",
        "      self.update_center(x)\n",
        "\n",
        "      if self.verbose:\n",
        "        print(self.variation,torch.argmin(self.dists,(0)))\n",
        "\n",
        "      # max iter is not given, ending with small variation\n",
        "      if torch.abs(self.variation) <1e-3 and self.max_iter is None:\n",
        "        break\n",
        "      # max iter is given\n",
        "      elif self.max_iter is not None and self.count == self.max_iter:\n",
        "        break\n",
        "\n",
        "      self.count += 1\n",
        "\n",
        "    #self.representive_samples()\n",
        "    return self.labels\n",
        "\n",
        "  def assign_to_center(self,x):\n",
        "    # create label placeholders --> long type --> assign to \"cpu\"\n",
        "    labels = torch.empty((x.shape[0],)).long().to(self.device)\n",
        "    # distances place holder (0,2) --> assign to \"cpu\"\n",
        "    dists = torch.empty((0,self.n_clusters)).to(self.device)\n",
        "\n",
        "    # (index,value)\n",
        "    for i,sample in enumerate(x):\n",
        "      # calculate distance from each sample to centers\n",
        "      # sum of each row and return in the given dimension (1:row,0:column)\n",
        "      # dist kind of type [[(x-c1x)^2+(y-c1y)^2],[(x-c2x)^2+(y-c2y)^2]]\n",
        "      # sample-self.centers is broadcasted into self.centers dimension\n",
        "\n",
        "      disQ = torch.tensor(sample-self.centers)\n",
        "      dist = torch.sum(torch.mul(disQ,disQ),(1))\n",
        "      # label is the argmin of dist\n",
        "      labels[i] = torch.argmin(dist)\n",
        "\n",
        "      # unsqueeze into dim=1(row),0(column)\n",
        "      # concatenate tensors (of same shape) into dimension=1(row),0(column)\n",
        "      dists = torch.cat([dists, dist.unsqueeze(0)], (0))\n",
        "    self.labels = labels\n",
        "    if self.started:\n",
        "      # self.dists will be broadcast into dim of dists\n",
        "      self.variation = torch.sum(self.dists - dists)\n",
        "      self.dists = dists\n",
        "      self.started = True\n",
        "\n",
        "  def update_center(self, x):\n",
        "    # placeholder for new centers (x,y)\n",
        "    centers = torch.empty((0, x.shape[1])).to(self.device)\n",
        "    \n",
        "    for i in range(self.n_clusters):\n",
        "      mask = self.labels == i\n",
        "      cluster_samples = x[mask]\n",
        "      # torch.cat like append function, \n",
        "      centers = torch.cat([centers, torch.mean(torch.tensor(cluster_samples), (0)).unsqueeze(0)], (0))\n",
        "    self.centers = centers\n",
        "\n",
        "  def sample_closest_dist(self):\n",
        "    # argmin(input,dimension)\n",
        "    self.representative_samples = torch.argmin(self.dists, (0))\n",
        "\n",
        "\n",
        "\n",
        "km = Kmeans(n_clusters=3,max_iter=10,verbose=False)\n",
        "labels = km.fit(Data)"
      ],
      "execution_count": 16,
      "outputs": [
        {
          "output_type": "stream",
          "text": [
            "/usr/local/lib/python3.6/dist-packages/ipykernel_launcher.py:67: UserWarning: To copy construct from a tensor, it is recommended to use sourceTensor.clone().detach() or sourceTensor.clone().detach().requires_grad_(True), rather than torch.tensor(sourceTensor).\n",
            "/usr/local/lib/python3.6/dist-packages/ipykernel_launcher.py:90: UserWarning: To copy construct from a tensor, it is recommended to use sourceTensor.clone().detach() or sourceTensor.clone().detach().requires_grad_(True), rather than torch.tensor(sourceTensor).\n"
          ],
          "name": "stderr"
        }
      ]
    },
    {
      "cell_type": "code",
      "metadata": {
        "id": "hw4adhIP6ZDt",
        "outputId": "75982a9a-b488-47a5-e4bb-4a03eb4c45d5",
        "colab": {
          "base_uri": "https://localhost:8080/",
          "height": 283
        }
      },
      "source": [
        "# visualize\n",
        "plt.scatter(Data[:,0],Data[:,1],c=labels,cmap='viridis')"
      ],
      "execution_count": 14,
      "outputs": [
        {
          "output_type": "execute_result",
          "data": {
            "text/plain": [
              "<matplotlib.collections.PathCollection at 0x7f918e548588>"
            ]
          },
          "metadata": {
            "tags": []
          },
          "execution_count": 14
        },
        {
          "output_type": "display_data",
          "data": {
            "image/png": "[encoded data removed]",
            "text/plain": [
              "<Figure size 432x288 with 1 Axes>"
            ]
          },
          "metadata": {
            "tags": [],
            "needs_background": "light"
          }
        }
      ]
    }
  ]
}