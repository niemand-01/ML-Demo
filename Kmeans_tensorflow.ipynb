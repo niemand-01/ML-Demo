{
  "nbformat": 4,
  "nbformat_minor": 0,
  "metadata": {
    "colab": {
      "name": "Kmeans-tensorflow.ipynb",
      "provenance": [],
      "authorship_tag": "ABX9TyNjCURjo8wZWZSecx1Twe+c",
      "include_colab_link": true
    },
    "kernelspec": {
      "name": "python3",
      "display_name": "Python 3"
    }
  },
  "cells": [
    {
      "cell_type": "markdown",
      "metadata": {
        "id": "view-in-github",
        "colab_type": "text"
      },
      "source": [
        "<a href=\"https://colab.research.google.com/github/niemand-01/ML-Demo/blob/master/Kmeans_tensorflow.ipynb\" target=\"_parent\"><img src=\"https://colab.research.google.com/assets/colab-badge.svg\" alt=\"Open In Colab\"/></a>"
      ]
    },
    {
      "cell_type": "code",
      "metadata": {
        "id": "O8f7bmfNv5wU"
      },
      "source": [
        "import tensorflow as tf\n",
        "import numpy as np\n",
        "from sklearn.datasets import make_blobs\n",
        "import matplotlib.pyplot as plt\n",
        "import logging\n",
        "\n",
        "tf.get_logger().setLevel(logging.ERROR)"
      ],
      "execution_count": 16,
      "outputs": []
    },
    {
      "cell_type": "code",
      "metadata": {
        "id": "3Q2W00aowo9N",
        "outputId": "c7680d59-bab6-4701-e67b-90fb38b1743f",
        "colab": {
          "base_uri": "https://localhost:8080/",
          "height": 73
        }
      },
      "source": [
        "X,y = make_blobs(n_samples=100,n_features=2,centers=4)\n",
        "print(y)\n",
        "# print(X)"
      ],
      "execution_count": 10,
      "outputs": [
        {
          "output_type": "stream",
          "text": [
            "[3 0 2 3 3 3 1 1 2 2 0 3 0 1 2 2 0 0 0 1 2 1 1 0 2 1 0 1 0 3 0 2 0 1 0 3 2\n",
            " 3 1 2 0 2 0 0 2 2 3 3 1 0 2 0 3 1 1 2 1 2 1 3 1 3 1 3 3 2 0 2 0 0 3 0 1 3\n",
            " 1 1 3 3 1 3 2 0 2 3 2 1 3 0 2 0 0 2 1 2 1 3 3 3 1 2]\n"
          ],
          "name": "stdout"
        }
      ]
    },
    {
      "cell_type": "code",
      "metadata": {
        "id": "alfRdcyDwxMd",
        "outputId": "8d12ad7b-6517-400f-b782-e020abe04e1b",
        "colab": {
          "base_uri": "https://localhost:8080/",
          "height": 283
        }
      },
      "source": [
        "# X[y==0,0] means the corresponding X[i][0] when y[i]==0\n",
        "plt.scatter(X[y==0,0], X[y==0,1])\n",
        "plt.scatter(X[y==1,0], X[y==1,1], c='r')\n",
        "plt.scatter(X[y==2,0], X[y==2, 1], c='b')\n",
        "plt.scatter(X[y==3,0], X[y==3, 1], c='g')"
      ],
      "execution_count": 15,
      "outputs": [
        {
          "output_type": "execute_result",
          "data": {
            "text/plain": [
              "<matplotlib.collections.PathCollection at 0x7f41074d2be0>"
            ]
          },
          "metadata": {
            "tags": []
          },
          "execution_count": 15
        },
        {
          "output_type": "display_data",
          "data": {
            "image/png": "[encoded data removed]",
            "text/plain": [
              "<Figure size 432x288 with 1 Axes>"
            ]
          },
          "metadata": {
            "tags": [],
            "needs_background": "light"
          }
        }
      ]
    },
    {
      "cell_type": "code",
      "metadata": {
        "id": "6DAkOL7axl3-",
        "outputId": "b0361529-3b77-4850-ea89-f5ed09870a77",
        "colab": {
          "base_uri": "https://localhost:8080/",
          "height": 1000
        }
      },
      "source": [
        "# config\n",
        "# batch_size =10\n",
        "\n",
        "# cluster number\n",
        "cluster_num = 3 \n",
        "\n",
        "# placeholder\n",
        "# xi = tf.placeholder(dtype=tf.float32,shape=[None,784])\n",
        "# yi = tf.placeholder(dtype=tf.float32,shape=[None,10])\n",
        "\n",
        "# prepare input data\n",
        "def input_fn():\n",
        "  return tf.compat.v1.train.limit_epochs(tf.convert_to_tensor(X,dtype=tf.float32),num_epochs=1)\n",
        "\n",
        "kmeans = tf.compat.v1.estimator.experimental.KMeans(num_clusters=cluster_num,use_mini_batch=True)\n",
        "\n",
        "# train\n",
        "num_iterations = 10\n",
        "previous_cenetrs = None\n",
        "for _ in range(num_iterations):\n",
        "  # kmeans is a unsupervised learning, only feed in data without label y\n",
        "  kmeans.train(input_fn)\n",
        "  # after each iteration/epoch calculate new cluster centers\n",
        "  cluster_centers = kmeans.cluster_centers()\n",
        "  if previous_cenetrs is not None:\n",
        "    print('delta:',cluster_centers - previous_cenetrs)\n",
        "  previous_cenetrs = cluster_centers\n",
        "  # implicit score ?\n",
        "  print('score:',kmeans.score(input_fn))\n",
        "print('cluster centers:',cluster_centers)\n",
        "\n",
        "# predict\n",
        "cluster_indices = list(kmeans.predict_cluster_index(input_fn))\n",
        "\n",
        "# visualize\n",
        "plt.scatter(X[:,0],X[:,1],c=cluster_indices,cmap='viridis')"
      ],
      "execution_count": 18,
      "outputs": [
        {
          "output_type": "stream",
          "text": [
            "score: 3742.495\n",
            "delta: [[ 5.307916   -1.8577518 ]\n",
            " [-1.3544471  -1.0755668 ]\n",
            " [ 0.81968665  0.35178947]]\n",
            "score: 1515.5103\n",
            "delta: [[ 1.8968477  -0.78393936]\n",
            " [ 0.69366693  0.9756317 ]\n",
            " [ 0.01607227  0.00689793]]\n",
            "score: 845.43646\n",
            "delta: [[ 0.9388437  -0.3880105 ]\n",
            " [ 0.1517396   0.21341944]\n",
            " [ 0.00549841  0.00235987]]\n",
            "score: 652.7736\n",
            "delta: [[ 0.56027794 -0.23155451]\n",
            " [ 0.06649256  0.09352064]\n",
            " [ 0.00277638  0.00119162]]\n",
            "score: 566.7838\n",
            "delta: [[ 0.3187785  -0.13174677]\n",
            " [ 0.03061533  0.04305983]\n",
            " [ 0.00139737  0.00059986]]\n",
            "score: 526.94086\n",
            "delta: [[ 0.2386837  -0.09864426]\n",
            " [ 0.02128148  0.02993202]\n",
            " [ 0.0010004   0.00042915]]\n",
            "score: 501.24368\n",
            "delta: [[ 0.18540621 -0.07662535]\n",
            " [ 0.01565146  0.02201319]\n",
            " [ 0.0007515   0.00032234]]\n",
            "score: 483.7039\n",
            "delta: [[ 0.1647129  -0.06807375]\n",
            " [ 0.01358104  0.01910162]\n",
            " [ 0.00065804  0.00028229]]\n",
            "score: 469.87976\n",
            "delta: [[ 0.13163853 -0.05440426]\n",
            " [ 0.01040792  0.0146389 ]\n",
            " [ 0.0005126   0.00021982]]\n",
            "score: 460.02325\n",
            "cluster centers: [[ 8.436337   4.611613 ]\n",
            " [-3.2788641  6.9419694]\n",
            " [-2.7304087 -6.589381 ]]\n"
          ],
          "name": "stdout"
        },
        {
          "output_type": "execute_result",
          "data": {
            "text/plain": [
              "<matplotlib.collections.PathCollection at 0x7f4103ee11d0>"
            ]
          },
          "metadata": {
            "tags": []
          },
          "execution_count": 18
        },
        {
          "output_type": "display_data",
          "data": {
            "image/png": "[encoded data removed]",
            "text/plain": [
              "<Figure size 432x288 with 1 Axes>"
            ]
          },
          "metadata": {
            "tags": [],
            "needs_background": "light"
          }
        }
      ]
    }
  ]
}